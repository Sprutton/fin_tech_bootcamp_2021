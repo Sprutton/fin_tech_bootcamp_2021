{
 "cells": [
  {
   "cell_type": "markdown",
   "metadata": {},
   "source": [
    "# Financial Planning with APIs and Simulations"
   ]
  },
  {
   "cell_type": "code",
   "execution_count": 220,
   "metadata": {
    "collapsed": false,
    "jupyter": {
     "outputs_hidden": false
    },
    "pycharm": {
     "name": "#%%\n"
    }
   },
   "outputs": [],
   "source": [
    "# Import the required libraries and dependencies\n",
    "import os\n",
    "import requests\n",
    "import json\n",
    "import pandas as pd\n",
    "from dotenv import load_dotenv\n",
    "import alpaca_trade_api as tradeapi\n",
    "import datetime\n",
    "from MCForecastTools import MCSimulation\n",
    "load_dotenv()\n",
    "%matplotlib inline\n",
    "\n",
    "# Identify most recent completed weekday from a given date.\n",
    "def date_to_weekday(year, month, day):\n",
    "      start_date = datetime.datetime(year, month, day)\n",
    "      offset = max(1, (start_date.weekday() + 6) % 7 - 3)\n",
    "      timedelta = datetime.timedelta(offset)\n",
    "      most_recent = start_date - timedelta\n",
    "      return most_recent\n",
    "\n",
    "#todays date:\n",
    "today_date = str(datetime.datetime.now()).split()[0]\n",
    "#one year ago from given \"todays\" date:\n",
    "def one_year_ago(end_date):\n",
    "      answer = str(end_date - datetime.timedelta(days=1*365)).split()[0]\n",
    "      return answer\n",
    "\n",
    "\n",
    "#alpaca rest object\n",
    "alpaca_key = os.getenv('APCA_API_KEY_ID')\n",
    "alpaca_secret = os.getenv('APCA_API_SECRET_KEY')\n",
    "alpaca_url = os.getenv('APCA_API_BASE_URL')\n",
    "alpaca_version = 'v2'\n",
    "\n",
    "alpaca = tradeapi.REST(\n",
    "    alpaca_key,\n",
    "    alpaca_secret,\n",
    "      alpaca_url,\n",
    "  alpaca_version\n",
    ")"
   ]
  },
  {
   "cell_type": "markdown",
   "metadata": {},
   "source": [
    "## Part 1: Create a Financial Planner"
   ]
  },
  {
   "cell_type": "code",
   "execution_count": 208,
   "metadata": {},
   "outputs": [],
   "source": [
    "#Add coins to portfolio:\n",
    "btc_coins = 1.2\n",
    "eth_coins = 5.3"
   ]
  },
  {
   "cell_type": "code",
   "execution_count": 201,
   "metadata": {},
   "outputs": [],
   "source": [
    "#Crypto URL's\n",
    "btc_url = \"https://api.alternative.me/v2/ticker/Bitcoin/?convert=USD\"\n",
    "eth_url = \"https://api.alternative.me/v2/ticker/Ethereum/?convert=USD\""
   ]
  },
  {
   "cell_type": "code",
   "execution_count": 202,
   "metadata": {},
   "outputs": [
    {
     "name": "stdout",
     "output_type": "stream",
     "text": [
      "The current price for Bit Coin is $37245.0\n",
      "The current Market-Cap for Bit Coin is $693270769027\n",
      "The current total supply for Bit Coin is $18733925\n",
      "The current price for Ether Coin is $2408.23\n",
      "The current Market Cap for Ether is $279082710722\n",
      "The current total supply for Ether is $116276105\n",
      "\n",
      "The current market value of Bit Coin is $697745036625.0\n",
      "The current market value of Eth is is $280019604344.15\n",
      "\n",
      "Your crypto wallet balance is: $57457.619\n"
     ]
    }
   ],
   "source": [
    "#crypto api calls\n",
    "btc_response = requests.get(btc_url).json()\n",
    "eth_response =  requests.get(eth_url).json()\n",
    "btc_dump = json.dumps(btc_response, indent=4, sort_keys=True)\n",
    "eth_dump = json.dumps(eth_response, indent=4, sort_keys=True)\n",
    "\n",
    "#bitcoin data\n",
    "btc_current_price = btc_response['data']['1']['quotes']['USD']['price']\n",
    "btc_market_cap = btc_response['data']['1']['quotes']['USD']['market_cap']\n",
    "btc_total_supply = btc_response['data']['1']['total_supply']\n",
    "\n",
    "#etherium data\n",
    "eth_current_price = eth_response['data']['1027']['quotes']['USD']['price']\n",
    "eth_market_cap = eth_response['data']['1027']['quotes']['USD']['market_cap']\n",
    "eth_total_supply = eth_response['data']['1027']['total_supply']\n",
    "\n",
    "print(f\"The current price for Bit Coin is ${btc_current_price}\\n\"\n",
    "      f\"The current Market-Cap for Bit Coin is ${btc_market_cap}\\n\"\n",
    "      f\"The current total supply for Bit Coin is ${btc_total_supply}\\n\"\n",
    "      f\"The current price for Ether Coin is ${eth_current_price}\\n\"\n",
    "      f\"The current Market Cap for Ether is ${eth_market_cap}\\n\"\n",
    "      f\"The current total supply for Ether is ${eth_total_supply}\\n\")\n",
    "\n",
    "#pull values\n",
    "btc_value = btc_total_supply * btc_current_price\n",
    "eth_value = eth_total_supply * eth_current_price\n",
    "print(f\"The current market value of Bit Coin is ${btc_value}\\n\"\n",
    "      f\"The current market value of Eth is is ${eth_value}\\n\")\n",
    "\n",
    "total_crypto_wallet = (btc_coins*btc_current_price) + (eth_coins*eth_current_price)\n",
    "\n",
    "print(f\"Your crypto wallet balance is: ${total_crypto_wallet}\")\n"
   ]
  },
  {
   "cell_type": "markdown",
   "metadata": {},
   "source": [
    "### Evaluate the Stock and Bond Holdings by Using the Alpaca SDK\n"
   ]
  },
  {
   "cell_type": "code",
   "execution_count": 233,
   "metadata": {
    "collapsed": false,
    "jupyter": {
     "outputs_hidden": false
    },
    "pycharm": {
     "name": "#%%\n"
    }
   },
   "outputs": [],
   "source": [
    "# Current portfolio\n",
    "monthly_income = 12000\n",
    "spy_shares = 110\n",
    "agg_shares = 200\n",
    "\n",
    "tickers = ['SPY','AGG']\n",
    "timeframe = '1D'\n",
    "end_date = date_to_weekday(2021,6,12)\n",
    "start_date = one_year_ago(end_date)\n"
   ]
  },
  {
   "cell_type": "code",
   "execution_count": 219,
   "metadata": {},
   "outputs": [],
   "source": []
  },
  {
   "cell_type": "markdown",
   "metadata": {},
   "source": [
    "#### Step 4: Get the current closing prices for `SPY` and `AGG` by using the Alpaca `get_barset` function. Format the response as a Pandas DataFrame by including the `df` property at the end of the `get_barset` function."
   ]
  },
  {
   "cell_type": "code",
   "execution_count": 234,
   "metadata": {},
   "outputs": [
    {
     "data": {
      "text/html": [
       "<div>\n",
       "<style scoped>\n",
       "    .dataframe tbody tr th:only-of-type {\n",
       "        vertical-align: middle;\n",
       "    }\n",
       "\n",
       "    .dataframe tbody tr th {\n",
       "        vertical-align: top;\n",
       "    }\n",
       "\n",
       "    .dataframe thead tr th {\n",
       "        text-align: left;\n",
       "    }\n",
       "\n",
       "    .dataframe thead tr:last-of-type th {\n",
       "        text-align: right;\n",
       "    }\n",
       "</style>\n",
       "<table border=\"1\" class=\"dataframe\">\n",
       "  <thead>\n",
       "    <tr>\n",
       "      <th></th>\n",
       "      <th colspan=\"5\" halign=\"left\">AGG</th>\n",
       "      <th colspan=\"5\" halign=\"left\">SPY</th>\n",
       "    </tr>\n",
       "    <tr>\n",
       "      <th></th>\n",
       "      <th>open</th>\n",
       "      <th>high</th>\n",
       "      <th>low</th>\n",
       "      <th>close</th>\n",
       "      <th>volume</th>\n",
       "      <th>open</th>\n",
       "      <th>high</th>\n",
       "      <th>low</th>\n",
       "      <th>close</th>\n",
       "      <th>volume</th>\n",
       "    </tr>\n",
       "    <tr>\n",
       "      <th>time</th>\n",
       "      <th></th>\n",
       "      <th></th>\n",
       "      <th></th>\n",
       "      <th></th>\n",
       "      <th></th>\n",
       "      <th></th>\n",
       "      <th></th>\n",
       "      <th></th>\n",
       "      <th></th>\n",
       "      <th></th>\n",
       "    </tr>\n",
       "  </thead>\n",
       "  <tbody>\n",
       "    <tr>\n",
       "      <th>2021-01-20 00:00:00-05:00</th>\n",
       "      <td>117.35</td>\n",
       "      <td>117.4300</td>\n",
       "      <td>117.3100</td>\n",
       "      <td>117.40</td>\n",
       "      <td>3877734</td>\n",
       "      <td>381.11</td>\n",
       "      <td>384.7900</td>\n",
       "      <td>380.690</td>\n",
       "      <td>383.86</td>\n",
       "      <td>53064901</td>\n",
       "    </tr>\n",
       "    <tr>\n",
       "      <th>2021-01-21 00:00:00-05:00</th>\n",
       "      <td>117.22</td>\n",
       "      <td>117.2985</td>\n",
       "      <td>117.1400</td>\n",
       "      <td>117.26</td>\n",
       "      <td>5801029</td>\n",
       "      <td>384.49</td>\n",
       "      <td>384.9500</td>\n",
       "      <td>383.250</td>\n",
       "      <td>384.20</td>\n",
       "      <td>41800991</td>\n",
       "    </tr>\n",
       "    <tr>\n",
       "      <th>2021-01-22 00:00:00-05:00</th>\n",
       "      <td>117.29</td>\n",
       "      <td>117.3200</td>\n",
       "      <td>117.1900</td>\n",
       "      <td>117.26</td>\n",
       "      <td>3469745</td>\n",
       "      <td>382.25</td>\n",
       "      <td>384.1256</td>\n",
       "      <td>381.835</td>\n",
       "      <td>382.86</td>\n",
       "      <td>39108239</td>\n",
       "    </tr>\n",
       "    <tr>\n",
       "      <th>2021-01-25 00:00:00-05:00</th>\n",
       "      <td>117.39</td>\n",
       "      <td>117.5600</td>\n",
       "      <td>117.3600</td>\n",
       "      <td>117.54</td>\n",
       "      <td>3977366</td>\n",
       "      <td>383.67</td>\n",
       "      <td>384.7700</td>\n",
       "      <td>378.460</td>\n",
       "      <td>384.40</td>\n",
       "      <td>61090775</td>\n",
       "    </tr>\n",
       "    <tr>\n",
       "      <th>2021-01-26 00:00:00-05:00</th>\n",
       "      <td>117.46</td>\n",
       "      <td>117.5850</td>\n",
       "      <td>117.4255</td>\n",
       "      <td>117.51</td>\n",
       "      <td>3451493</td>\n",
       "      <td>385.41</td>\n",
       "      <td>385.8500</td>\n",
       "      <td>383.540</td>\n",
       "      <td>383.83</td>\n",
       "      <td>36871235</td>\n",
       "    </tr>\n",
       "  </tbody>\n",
       "</table>\n",
       "</div>"
      ],
      "text/plain": [
       "                              AGG                                       \\\n",
       "                             open      high       low   close   volume   \n",
       "time                                                                     \n",
       "2021-01-20 00:00:00-05:00  117.35  117.4300  117.3100  117.40  3877734   \n",
       "2021-01-21 00:00:00-05:00  117.22  117.2985  117.1400  117.26  5801029   \n",
       "2021-01-22 00:00:00-05:00  117.29  117.3200  117.1900  117.26  3469745   \n",
       "2021-01-25 00:00:00-05:00  117.39  117.5600  117.3600  117.54  3977366   \n",
       "2021-01-26 00:00:00-05:00  117.46  117.5850  117.4255  117.51  3451493   \n",
       "\n",
       "                              SPY                                       \n",
       "                             open      high      low   close    volume  \n",
       "time                                                                    \n",
       "2021-01-20 00:00:00-05:00  381.11  384.7900  380.690  383.86  53064901  \n",
       "2021-01-21 00:00:00-05:00  384.49  384.9500  383.250  384.20  41800991  \n",
       "2021-01-22 00:00:00-05:00  382.25  384.1256  381.835  382.86  39108239  \n",
       "2021-01-25 00:00:00-05:00  383.67  384.7700  378.460  384.40  61090775  \n",
       "2021-01-26 00:00:00-05:00  385.41  385.8500  383.540  383.83  36871235  "
      ]
     },
     "execution_count": 234,
     "metadata": {},
     "output_type": "execute_result"
    }
   ],
   "source": [
    "portfolio_prices_df = alpaca.get_barset(\n",
    "    tickers,\n",
    "    timeframe,\n",
    "    start = start_date,\n",
    "    end = end_date\n",
    ").df\n",
    "\n",
    "\n",
    "# Use the Alpaca get_barset function to get current closing prices the portfolio\n",
    "# Be sure to set the `df` property after the function to format the response object as a DataFrame\n",
    "# YOUR CODE HERE\n",
    "portfolio_prices_df = alpaca.get_barset(\n",
    "    tickers,\n",
    "    timeframe,\n",
    "    start = start_date,\n",
    "    end = end_date\n",
    ").df"
   ]
  },
  {
   "cell_type": "markdown",
   "metadata": {},
   "source": [
    "#### Step 5: Navigating the Alpaca response DataFrame, select the `SPY` and `AGG` closing prices, and store them as variables."
   ]
  },
  {
   "cell_type": "code",
   "execution_count": 241,
   "metadata": {},
   "outputs": [],
   "source": [
    "agg_close_price = (portfolio_prices_df[\"AGG\"][\"close\"])\n",
    "agg_close_price = float(agg_close_price['2021-06-11'])\n",
    "\n",
    "#spy close\n",
    "spy_close_price = (portfolio_prices_df[\"SPY\"][\"close\"])\n",
    "spy_close_price = float(spy_close_price['2021-06-11'])"
   ]
  },
  {
   "cell_type": "markdown",
   "metadata": {},
   "source": [
    "#### Step 6: Calculate the value, in US dollars, of the current amount of shares in each of the stock and bond portions of the portfolio, and print the results."
   ]
  },
  {
   "cell_type": "code",
   "execution_count": 244,
   "metadata": {},
   "outputs": [
    {
     "name": "stdout",
     "output_type": "stream",
     "text": [
      "Your portfolio is currently valued at: $127179.72\n"
     ]
    }
   ],
   "source": [
    "#agg value\n",
    "agg_value = agg_shares * agg_close_price\n",
    "\n",
    "#spy value\n",
    "spy_value = spy_shares * spy_close_price\n",
    "\n",
    "#total value\n",
    "bond_value = agg_value + spy_value\n",
    "portfolio_value = total_crypto_wallet + bond_value\n",
    "\n",
    "print(f\"Your portfolio is currently valued at: ${portfolio_value:.2f}\")"
   ]
  },
  {
   "cell_type": "markdown",
   "metadata": {},
   "source": [
    "## Evaluate the Emergency Fund"
   ]
  },
  {
   "cell_type": "markdown",
   "metadata": {},
   "source": [
    "#### Step 1: Create a Python list named `savings_data` that has two elements. The first element contains the total value of the cryptocurrency wallet. The second element contains the total value of the stock and bond portions of the portfolio."
   ]
  },
  {
   "cell_type": "code",
   "execution_count": 245,
   "metadata": {},
   "outputs": [
    {
     "data": {
      "text/plain": [
       "<AxesSubplot:title={'center':'Total value for (crypto and stock/bond)'}, ylabel='amount'>"
      ]
     },
     "execution_count": 245,
     "metadata": {},
     "output_type": "execute_result"
    },
    {
     "data": {
      "image/png": "[encoded data removed]",
      "text/plain": [
       "<Figure size 1152x576 with 1 Axes>"
      ]
     },
     "metadata": {},
     "output_type": "display_data"
    }
   ],
   "source": [
    "#all assets\n",
    "savings_data = [total_crypto_wallet, bond_value]\n",
    "#create dataframe\n",
    "savings_df = pd.DataFrame(savings_data, columns=['amount'], index=['crypto','stock/bond'])\n",
    "#visualize savings\n",
    "savings_df.plot.pie(y ='amount', figsize=(16,8), title=('Total value for (crypto and stock/bond)'))"
   ]
  },
  {
   "cell_type": "markdown",
   "metadata": {},
   "source": [
    "#### Step 3: Use the `savings_df` DataFrame to plot a pie chart that visualizes the composition of the member’s portfolio. The y-axis of the pie chart uses `amount`. Be sure to add a title."
   ]
  },
  {
   "cell_type": "code",
   "execution_count": 248,
   "metadata": {},
   "outputs": [
    {
     "name": "stdout",
     "output_type": "stream",
     "text": [
      " You surpassd your goal! \n"
     ]
    }
   ],
   "source": [
    "emergency_fund_value = monthly_income * 3\n",
    "distance_to_goal = emergency_fund_value - portfolio_value\n",
    "\n",
    "#check on status of saving:\n",
    "if portfolio_value > emergency_fund_value:\n",
    "\n",
    "    print(\" You surpassd your goal! \")\n",
    "\n",
    "elif portfolio_value == emergency_fund_value:\n",
    "\n",
    "    print(\" You hit your goal! \")\n",
    "\n",
    "elif portfolio_value < emergency_fund_value:\n",
    "\n",
    "        print(f\" We are ${distance_to_goal:.2f} away from reaching your set goal for an Emergency Fund.\")"
   ]
  },
  {
   "cell_type": "markdown",
   "metadata": {},
   "source": [
    "## Part 2: Create a Financial Planner for Retirement\n"
   ]
  },
  {
   "cell_type": "markdown",
   "metadata": {},
   "source": [
    "#### Step 1: Make an API call via the Alpaca SDK to get 10 years of historical closing prices for a traditional 60/40 portfolio split: 60% stocks (SPY) and 40% bonds (AGG)."
   ]
  },
  {
   "cell_type": "code",
   "execution_count": 258,
   "metadata": {},
   "outputs": [],
   "source": [
    "#create 10 year histo for past 10 years\n",
    "ten_year_hist = str(datetime.datetime.now() - datetime.timedelta(days=10*365)).split()[0]\n",
    "ten_year_hist_time = pd.Timestamp(ten_year_hist , tz=\"America/New_York\").isoformat()\n",
    "end_date_ten_year = pd.Timestamp(today_date, tz=\"America/New_York\").isoformat()\n",
    "\n",
    "#create dataframe for prices:\n",
    "tenyear_prices_df = alpaca.get_barset(\n",
    "    tickers,\n",
    "    timeframe,\n",
    "    start = ten_year_hist_time,\n",
    "    end = end_date_ten_year\n",
    ").df"
   ]
  },
  {
   "cell_type": "markdown",
   "metadata": {},
   "source": [
    "#### Step 2: Run a Monte Carlo simulation of 500 samples and 30 years for the 60/40 portfolio, and then plot the results."
   ]
  },
  {
   "cell_type": "code",
   "execution_count": 259,
   "metadata": {},
   "outputs": [],
   "source": [
    "#create MC for forcsting 30 year cumulative returns w/ 500 samples\n",
    "thirty_year_simulation = MCSimulation(\n",
    "    portfolio_data=tenyear_prices_df,\n",
    "    weights=[0.40, 0.60],\n",
    "    num_simulation=500,\n",
    "    num_trading_days=252 * 30\n",
    ")\n"
   ]
  },
  {
   "cell_type": "code",
   "execution_count": 261,
   "metadata": {},
   "outputs": [
    {
     "name": "stdout",
     "output_type": "stream",
     "text": [
      "Running Monte Carlo simulation number 0.\n",
      "Running Monte Carlo simulation number 10.\n",
      "Running Monte Carlo simulation number 20.\n",
      "Running Monte Carlo simulation number 30.\n",
      "Running Monte Carlo simulation number 40.\n",
      "Running Monte Carlo simulation number 50.\n",
      "Running Monte Carlo simulation number 60.\n",
      "Running Monte Carlo simulation number 70.\n",
      "Running Monte Carlo simulation number 80.\n",
      "Running Monte Carlo simulation number 90.\n",
      "Running Monte Carlo simulation number 100.\n",
      "Running Monte Carlo simulation number 110.\n",
      "Running Monte Carlo simulation number 120.\n",
      "Running Monte Carlo simulation number 130.\n",
      "Running Monte Carlo simulation number 140.\n",
      "Running Monte Carlo simulation number 150.\n",
      "Running Monte Carlo simulation number 160.\n",
      "Running Monte Carlo simulation number 170.\n",
      "Running Monte Carlo simulation number 180.\n",
      "Running Monte Carlo simulation number 190.\n",
      "Running Monte Carlo simulation number 200.\n",
      "Running Monte Carlo simulation number 210.\n",
      "Running Monte Carlo simulation number 220.\n",
      "Running Monte Carlo simulation number 230.\n",
      "Running Monte Carlo simulation number 240.\n",
      "Running Monte Carlo simulation number 250.\n",
      "Running Monte Carlo simulation number 260.\n",
      "Running Monte Carlo simulation number 270.\n",
      "Running Monte Carlo simulation number 280.\n",
      "Running Monte Carlo simulation number 290.\n",
      "Running Monte Carlo simulation number 300.\n",
      "Running Monte Carlo simulation number 310.\n",
      "Running Monte Carlo simulation number 320.\n",
      "Running Monte Carlo simulation number 330.\n",
      "Running Monte Carlo simulation number 340.\n",
      "Running Monte Carlo simulation number 350.\n",
      "Running Monte Carlo simulation number 360.\n",
      "Running Monte Carlo simulation number 370.\n",
      "Running Monte Carlo simulation number 380.\n",
      "Running Monte Carlo simulation number 390.\n",
      "Running Monte Carlo simulation number 400.\n",
      "Running Monte Carlo simulation number 410.\n",
      "Running Monte Carlo simulation number 420.\n",
      "Running Monte Carlo simulation number 430.\n",
      "Running Monte Carlo simulation number 440.\n",
      "Running Monte Carlo simulation number 450.\n",
      "Running Monte Carlo simulation number 460.\n",
      "Running Monte Carlo simulation number 470.\n",
      "Running Monte Carlo simulation number 480.\n",
      "Running Monte Carlo simulation number 490.\n"
     ]
    },
    {
     "data": {
      "text/html": [
       "<div>\n",
       "<style scoped>\n",
       "    .dataframe tbody tr th:only-of-type {\n",
       "        vertical-align: middle;\n",
       "    }\n",
       "\n",
       "    .dataframe tbody tr th {\n",
       "        vertical-align: top;\n",
       "    }\n",
       "\n",
       "    .dataframe thead th {\n",
       "        text-align: right;\n",
       "    }\n",
       "</style>\n",
       "<table border=\"1\" class=\"dataframe\">\n",
       "  <thead>\n",
       "    <tr style=\"text-align: right;\">\n",
       "      <th></th>\n",
       "      <th>0</th>\n",
       "      <th>1</th>\n",
       "      <th>2</th>\n",
       "      <th>3</th>\n",
       "      <th>4</th>\n",
       "      <th>5</th>\n",
       "      <th>6</th>\n",
       "      <th>7</th>\n",
       "      <th>8</th>\n",
       "      <th>9</th>\n",
       "      <th>...</th>\n",
       "      <th>490</th>\n",
       "      <th>491</th>\n",
       "      <th>492</th>\n",
       "      <th>493</th>\n",
       "      <th>494</th>\n",
       "      <th>495</th>\n",
       "      <th>496</th>\n",
       "      <th>497</th>\n",
       "      <th>498</th>\n",
       "      <th>499</th>\n",
       "    </tr>\n",
       "  </thead>\n",
       "  <tbody>\n",
       "    <tr>\n",
       "      <th>0</th>\n",
       "      <td>1.000000</td>\n",
       "      <td>1.000000</td>\n",
       "      <td>1.000000</td>\n",
       "      <td>1.000000</td>\n",
       "      <td>1.000000</td>\n",
       "      <td>1.000000</td>\n",
       "      <td>1.000000</td>\n",
       "      <td>1.000000</td>\n",
       "      <td>1.000000</td>\n",
       "      <td>1.000000</td>\n",
       "      <td>...</td>\n",
       "      <td>1.000000</td>\n",
       "      <td>1.000000</td>\n",
       "      <td>1.000000</td>\n",
       "      <td>1.000000</td>\n",
       "      <td>1.000000</td>\n",
       "      <td>1.000000</td>\n",
       "      <td>1.000000</td>\n",
       "      <td>1.000000</td>\n",
       "      <td>1.000000</td>\n",
       "      <td>1.000000</td>\n",
       "    </tr>\n",
       "    <tr>\n",
       "      <th>1</th>\n",
       "      <td>0.994934</td>\n",
       "      <td>1.002577</td>\n",
       "      <td>0.999734</td>\n",
       "      <td>1.007338</td>\n",
       "      <td>1.013680</td>\n",
       "      <td>0.993820</td>\n",
       "      <td>1.005019</td>\n",
       "      <td>0.993181</td>\n",
       "      <td>0.987864</td>\n",
       "      <td>1.001154</td>\n",
       "      <td>...</td>\n",
       "      <td>0.991242</td>\n",
       "      <td>0.995806</td>\n",
       "      <td>0.994327</td>\n",
       "      <td>1.004741</td>\n",
       "      <td>0.994568</td>\n",
       "      <td>0.998342</td>\n",
       "      <td>1.003689</td>\n",
       "      <td>0.998902</td>\n",
       "      <td>0.996923</td>\n",
       "      <td>1.001136</td>\n",
       "    </tr>\n",
       "    <tr>\n",
       "      <th>2</th>\n",
       "      <td>0.990816</td>\n",
       "      <td>1.006376</td>\n",
       "      <td>0.999944</td>\n",
       "      <td>1.014277</td>\n",
       "      <td>1.010364</td>\n",
       "      <td>1.000952</td>\n",
       "      <td>1.004256</td>\n",
       "      <td>1.002737</td>\n",
       "      <td>0.988436</td>\n",
       "      <td>1.003829</td>\n",
       "      <td>...</td>\n",
       "      <td>0.993274</td>\n",
       "      <td>1.000364</td>\n",
       "      <td>0.988302</td>\n",
       "      <td>1.005281</td>\n",
       "      <td>0.995492</td>\n",
       "      <td>0.999675</td>\n",
       "      <td>0.999889</td>\n",
       "      <td>1.004658</td>\n",
       "      <td>0.994083</td>\n",
       "      <td>1.004679</td>\n",
       "    </tr>\n",
       "    <tr>\n",
       "      <th>3</th>\n",
       "      <td>0.991176</td>\n",
       "      <td>1.004083</td>\n",
       "      <td>0.997135</td>\n",
       "      <td>1.012564</td>\n",
       "      <td>1.016753</td>\n",
       "      <td>1.005659</td>\n",
       "      <td>1.004236</td>\n",
       "      <td>1.003327</td>\n",
       "      <td>0.984680</td>\n",
       "      <td>1.005618</td>\n",
       "      <td>...</td>\n",
       "      <td>0.996586</td>\n",
       "      <td>1.001648</td>\n",
       "      <td>0.977564</td>\n",
       "      <td>1.010782</td>\n",
       "      <td>0.994641</td>\n",
       "      <td>0.991102</td>\n",
       "      <td>1.002415</td>\n",
       "      <td>1.004938</td>\n",
       "      <td>0.994084</td>\n",
       "      <td>1.012244</td>\n",
       "    </tr>\n",
       "    <tr>\n",
       "      <th>4</th>\n",
       "      <td>0.995046</td>\n",
       "      <td>1.008308</td>\n",
       "      <td>0.987531</td>\n",
       "      <td>1.008955</td>\n",
       "      <td>1.016448</td>\n",
       "      <td>1.005755</td>\n",
       "      <td>1.003716</td>\n",
       "      <td>0.999489</td>\n",
       "      <td>0.992539</td>\n",
       "      <td>1.006618</td>\n",
       "      <td>...</td>\n",
       "      <td>0.994662</td>\n",
       "      <td>0.999366</td>\n",
       "      <td>0.981074</td>\n",
       "      <td>1.009258</td>\n",
       "      <td>1.002616</td>\n",
       "      <td>0.993696</td>\n",
       "      <td>0.997241</td>\n",
       "      <td>1.001020</td>\n",
       "      <td>1.005688</td>\n",
       "      <td>1.008368</td>\n",
       "    </tr>\n",
       "    <tr>\n",
       "      <th>...</th>\n",
       "      <td>...</td>\n",
       "      <td>...</td>\n",
       "      <td>...</td>\n",
       "      <td>...</td>\n",
       "      <td>...</td>\n",
       "      <td>...</td>\n",
       "      <td>...</td>\n",
       "      <td>...</td>\n",
       "      <td>...</td>\n",
       "      <td>...</td>\n",
       "      <td>...</td>\n",
       "      <td>...</td>\n",
       "      <td>...</td>\n",
       "      <td>...</td>\n",
       "      <td>...</td>\n",
       "      <td>...</td>\n",
       "      <td>...</td>\n",
       "      <td>...</td>\n",
       "      <td>...</td>\n",
       "      <td>...</td>\n",
       "      <td>...</td>\n",
       "    </tr>\n",
       "    <tr>\n",
       "      <th>7556</th>\n",
       "      <td>62.609085</td>\n",
       "      <td>68.552624</td>\n",
       "      <td>26.767891</td>\n",
       "      <td>73.395738</td>\n",
       "      <td>42.560756</td>\n",
       "      <td>68.907238</td>\n",
       "      <td>99.158359</td>\n",
       "      <td>28.479783</td>\n",
       "      <td>44.395474</td>\n",
       "      <td>75.284703</td>\n",
       "      <td>...</td>\n",
       "      <td>18.863529</td>\n",
       "      <td>31.074642</td>\n",
       "      <td>118.284317</td>\n",
       "      <td>76.242143</td>\n",
       "      <td>87.158307</td>\n",
       "      <td>36.337299</td>\n",
       "      <td>100.441478</td>\n",
       "      <td>27.421631</td>\n",
       "      <td>30.950986</td>\n",
       "      <td>87.207881</td>\n",
       "    </tr>\n",
       "    <tr>\n",
       "      <th>7557</th>\n",
       "      <td>63.101239</td>\n",
       "      <td>68.043924</td>\n",
       "      <td>26.629834</td>\n",
       "      <td>73.422319</td>\n",
       "      <td>42.628923</td>\n",
       "      <td>68.903609</td>\n",
       "      <td>99.176235</td>\n",
       "      <td>28.533154</td>\n",
       "      <td>44.326366</td>\n",
       "      <td>75.540312</td>\n",
       "      <td>...</td>\n",
       "      <td>18.913744</td>\n",
       "      <td>31.003970</td>\n",
       "      <td>117.941861</td>\n",
       "      <td>75.806498</td>\n",
       "      <td>87.531765</td>\n",
       "      <td>36.221579</td>\n",
       "      <td>100.501509</td>\n",
       "      <td>27.198607</td>\n",
       "      <td>30.876119</td>\n",
       "      <td>87.774377</td>\n",
       "    </tr>\n",
       "    <tr>\n",
       "      <th>7558</th>\n",
       "      <td>63.328256</td>\n",
       "      <td>67.861120</td>\n",
       "      <td>26.668262</td>\n",
       "      <td>73.792210</td>\n",
       "      <td>42.512062</td>\n",
       "      <td>68.899831</td>\n",
       "      <td>99.723577</td>\n",
       "      <td>28.303641</td>\n",
       "      <td>44.286730</td>\n",
       "      <td>75.439592</td>\n",
       "      <td>...</td>\n",
       "      <td>19.102761</td>\n",
       "      <td>30.923920</td>\n",
       "      <td>117.817262</td>\n",
       "      <td>75.033237</td>\n",
       "      <td>87.780140</td>\n",
       "      <td>36.124185</td>\n",
       "      <td>100.811958</td>\n",
       "      <td>27.284447</td>\n",
       "      <td>30.878262</td>\n",
       "      <td>87.550606</td>\n",
       "    </tr>\n",
       "    <tr>\n",
       "      <th>7559</th>\n",
       "      <td>63.250664</td>\n",
       "      <td>67.938953</td>\n",
       "      <td>26.886999</td>\n",
       "      <td>73.940416</td>\n",
       "      <td>42.517796</td>\n",
       "      <td>68.937689</td>\n",
       "      <td>99.258087</td>\n",
       "      <td>28.049077</td>\n",
       "      <td>44.093068</td>\n",
       "      <td>75.227727</td>\n",
       "      <td>...</td>\n",
       "      <td>19.065821</td>\n",
       "      <td>31.230116</td>\n",
       "      <td>116.766734</td>\n",
       "      <td>75.472093</td>\n",
       "      <td>88.008582</td>\n",
       "      <td>36.221912</td>\n",
       "      <td>100.141766</td>\n",
       "      <td>27.181444</td>\n",
       "      <td>30.649466</td>\n",
       "      <td>87.386553</td>\n",
       "    </tr>\n",
       "    <tr>\n",
       "      <th>7560</th>\n",
       "      <td>63.158706</td>\n",
       "      <td>67.697086</td>\n",
       "      <td>26.719229</td>\n",
       "      <td>73.969981</td>\n",
       "      <td>42.291096</td>\n",
       "      <td>69.200421</td>\n",
       "      <td>98.659246</td>\n",
       "      <td>27.936495</td>\n",
       "      <td>44.322521</td>\n",
       "      <td>75.424782</td>\n",
       "      <td>...</td>\n",
       "      <td>19.182401</td>\n",
       "      <td>31.117743</td>\n",
       "      <td>116.634449</td>\n",
       "      <td>75.439319</td>\n",
       "      <td>88.999520</td>\n",
       "      <td>36.522419</td>\n",
       "      <td>100.340553</td>\n",
       "      <td>27.264213</td>\n",
       "      <td>30.550247</td>\n",
       "      <td>86.979432</td>\n",
       "    </tr>\n",
       "  </tbody>\n",
       "</table>\n",
       "<p>7561 rows × 500 columns</p>\n",
       "</div>"
      ],
      "text/plain": [
       "            0          1          2          3          4          5    \\\n",
       "0      1.000000   1.000000   1.000000   1.000000   1.000000   1.000000   \n",
       "1      0.994934   1.002577   0.999734   1.007338   1.013680   0.993820   \n",
       "2      0.990816   1.006376   0.999944   1.014277   1.010364   1.000952   \n",
       "3      0.991176   1.004083   0.997135   1.012564   1.016753   1.005659   \n",
       "4      0.995046   1.008308   0.987531   1.008955   1.016448   1.005755   \n",
       "...         ...        ...        ...        ...        ...        ...   \n",
       "7556  62.609085  68.552624  26.767891  73.395738  42.560756  68.907238   \n",
       "7557  63.101239  68.043924  26.629834  73.422319  42.628923  68.903609   \n",
       "7558  63.328256  67.861120  26.668262  73.792210  42.512062  68.899831   \n",
       "7559  63.250664  67.938953  26.886999  73.940416  42.517796  68.937689   \n",
       "7560  63.158706  67.697086  26.719229  73.969981  42.291096  69.200421   \n",
       "\n",
       "            6          7          8          9    ...        490        491  \\\n",
       "0      1.000000   1.000000   1.000000   1.000000  ...   1.000000   1.000000   \n",
       "1      1.005019   0.993181   0.987864   1.001154  ...   0.991242   0.995806   \n",
       "2      1.004256   1.002737   0.988436   1.003829  ...   0.993274   1.000364   \n",
       "3      1.004236   1.003327   0.984680   1.005618  ...   0.996586   1.001648   \n",
       "4      1.003716   0.999489   0.992539   1.006618  ...   0.994662   0.999366   \n",
       "...         ...        ...        ...        ...  ...        ...        ...   \n",
       "7556  99.158359  28.479783  44.395474  75.284703  ...  18.863529  31.074642   \n",
       "7557  99.176235  28.533154  44.326366  75.540312  ...  18.913744  31.003970   \n",
       "7558  99.723577  28.303641  44.286730  75.439592  ...  19.102761  30.923920   \n",
       "7559  99.258087  28.049077  44.093068  75.227727  ...  19.065821  31.230116   \n",
       "7560  98.659246  27.936495  44.322521  75.424782  ...  19.182401  31.117743   \n",
       "\n",
       "             492        493        494        495         496        497  \\\n",
       "0       1.000000   1.000000   1.000000   1.000000    1.000000   1.000000   \n",
       "1       0.994327   1.004741   0.994568   0.998342    1.003689   0.998902   \n",
       "2       0.988302   1.005281   0.995492   0.999675    0.999889   1.004658   \n",
       "3       0.977564   1.010782   0.994641   0.991102    1.002415   1.004938   \n",
       "4       0.981074   1.009258   1.002616   0.993696    0.997241   1.001020   \n",
       "...          ...        ...        ...        ...         ...        ...   \n",
       "7556  118.284317  76.242143  87.158307  36.337299  100.441478  27.421631   \n",
       "7557  117.941861  75.806498  87.531765  36.221579  100.501509  27.198607   \n",
       "7558  117.817262  75.033237  87.780140  36.124185  100.811958  27.284447   \n",
       "7559  116.766734  75.472093  88.008582  36.221912  100.141766  27.181444   \n",
       "7560  116.634449  75.439319  88.999520  36.522419  100.340553  27.264213   \n",
       "\n",
       "            498        499  \n",
       "0      1.000000   1.000000  \n",
       "1      0.996923   1.001136  \n",
       "2      0.994083   1.004679  \n",
       "3      0.994084   1.012244  \n",
       "4      1.005688   1.008368  \n",
       "...         ...        ...  \n",
       "7556  30.950986  87.207881  \n",
       "7557  30.876119  87.774377  \n",
       "7558  30.878262  87.550606  \n",
       "7559  30.649466  87.386553  \n",
       "7560  30.550247  86.979432  \n",
       "\n",
       "[7561 rows x 500 columns]"
      ]
     },
     "execution_count": 261,
     "metadata": {},
     "output_type": "execute_result"
    }
   ],
   "source": [
    "# Run the Monte Carlo simulation to forecast 30 years cumulative returns\n",
    "thirty_year_simulation.calc_cumulative_return()"
   ]
  },
  {
   "cell_type": "code",
   "execution_count": 262,
   "metadata": {},
   "outputs": [
    {
     "data": {
      "text/plain": [
       "<AxesSubplot:title={'center':'500 Simulations of Cumulative Portfolio Return Trajectories Over the Next 7560 Trading Days.'}>"
      ]
     },
     "execution_count": 262,
     "metadata": {},
     "output_type": "execute_result"
    },
    {
     "data": {
      "image/png": "[encoded data removed]",
      "text/plain": [
       "<Figure size 432x288 with 1 Axes>"
      ]
     },
     "metadata": {
      "needs_background": "light"
     },
     "output_type": "display_data"
    }
   ],
   "source": [
    "#plot simulation\n",
    "thirty_year_simulation.plot_simulation()"
   ]
  },
  {
   "cell_type": "markdown",
   "metadata": {},
   "source": [
    "#### Step 3: Plot the probability distribution of the Monte Carlo simulation."
   ]
  },
  {
   "cell_type": "code",
   "execution_count": 264,
   "metadata": {},
   "outputs": [
    {
     "name": "stdout",
     "output_type": "stream",
     "text": [
      "Running Monte Carlo simulation number 20.\n",
      "Running Monte Carlo simulation number 30.\n",
      "Running Monte Carlo simulation number 40.\n",
      "Running Monte Carlo simulation number 50.\n",
      "Running Monte Carlo simulation number 60.\n",
      "Running Monte Carlo simulation number 70.\n",
      "Running Monte Carlo simulation number 80.\n",
      "Running Monte Carlo simulation number 90.\n",
      "Running Monte Carlo simulation number 100.\n",
      "Running Monte Carlo simulation number 110.\n",
      "Running Monte Carlo simulation number 120.\n",
      "Running Monte Carlo simulation number 130.\n",
      "Running Monte Carlo simulation number 140.\n",
      "Running Monte Carlo simulation number 150.\n",
      "Running Monte Carlo simulation number 160.\n",
      "Running Monte Carlo simulation number 170.\n",
      "Running Monte Carlo simulation number 180.\n",
      "Running Monte Carlo simulation number 190.\n",
      "Running Monte Carlo simulation number 200.\n",
      "Running Monte Carlo simulation number 210.\n",
      "Running Monte Carlo simulation number 220.\n",
      "Running Monte Carlo simulation number 230.\n",
      "Running Monte Carlo simulation number 240.\n",
      "Running Monte Carlo simulation number 250.\n",
      "Running Monte Carlo simulation number 260.\n",
      "Running Monte Carlo simulation number 270.\n",
      "Running Monte Carlo simulation number 280.\n",
      "Running Monte Carlo simulation number 290.\n",
      "Running Monte Carlo simulation number 300.\n",
      "Running Monte Carlo simulation number 310.\n",
      "Running Monte Carlo simulation number 320.\n",
      "Running Monte Carlo simulation number 330.\n",
      "Running Monte Carlo simulation number 340.\n",
      "Running Monte Carlo simulation number 350.\n",
      "Running Monte Carlo simulation number 360.\n",
      "Running Monte Carlo simulation number 370.\n",
      "Running Monte Carlo simulation number 380.\n",
      "Running Monte Carlo simulation number 390.\n",
      "Running Monte Carlo simulation number 400.\n",
      "Running Monte Carlo simulation number 410.\n",
      "Running Monte Carlo simulation number 420.\n",
      "Running Monte Carlo simulation number 430.\n",
      "Running Monte Carlo simulation number 440.\n",
      "Running Monte Carlo simulation number 450.\n",
      "Running Monte Carlo simulation number 460.\n",
      "Running Monte Carlo simulation number 470.\n",
      "Running Monte Carlo simulation number 480.\n",
      "Running Monte Carlo simulation number 490.\n"
     ]
    },
    {
     "data": {
      "text/plain": [
       "<AxesSubplot:title={'center':'Distribution of Final Cumuluative Returns Across All 500 Simulations'}, ylabel='Frequency'>"
      ]
     },
     "execution_count": 263,
     "metadata": {},
     "output_type": "execute_result"
    },
    {
     "data": {
      "image/png": "[encoded data removed]",
      "text/plain": [
       "<Figure size 432x288 with 1 Axes>"
      ]
     },
     "metadata": {
      "needs_background": "light"
     },
     "output_type": "display_data"
    },
    {
     "data": {
      "text/plain": [
       "<AxesSubplot:title={'center':'Distribution of Final Cumuluative Returns Across All 500 Simulations'}, ylabel='Frequency'>"
      ]
     },
     "execution_count": 264,
     "metadata": {},
     "output_type": "execute_result"
    },
    {
     "data": {
      "image/png": "[encoded data removed]",
      "text/plain": [
       "<Figure size 432x288 with 1 Axes>"
      ]
     },
     "metadata": {
      "needs_background": "light"
     },
     "output_type": "display_data"
    }
   ],
   "source": [
    "#plot distribution\n",
    "thirty_year_simulation.plot_distribution()\n"
   ]
  },
  {
   "cell_type": "markdown",
   "metadata": {},
   "source": [
    "#### Step 4: Generate the summary statistics for the Monte Carlo simulation."
   ]
  },
  {
   "cell_type": "code",
   "execution_count": 271,
   "metadata": {},
   "outputs": [
    {
     "name": "stdout",
     "output_type": "stream",
     "text": [
      "count           500.000000\n",
      "mean             66.057833\n",
      "std              32.415433\n",
      "min              18.693615\n",
      "25%              43.429446\n",
      "50%              58.951547\n",
      "75%              81.132393\n",
      "max             257.897412\n",
      "95% CI Lower     24.954317\n",
      "95% CI Upper    149.253201\n",
      "Name: 7560, dtype: float64\n"
     ]
    }
   ],
   "source": [
    "#summary statistics:\n",
    "summary_stats = thirty_year_simulation.summarize_cumulative_return()\n",
    "print(summary_stats)"
   ]
  },
  {
   "cell_type": "markdown",
   "metadata": {},
   "source": [
    "### Analyze the Retirement Portfolio Forecasts\n"
   ]
  },
  {
   "cell_type": "code",
   "execution_count": 268,
   "metadata": {},
   "outputs": [
    {
     "name": "stdout",
     "output_type": "stream",
     "text": [
      "The current value of your stock portfolio $46674.10\n",
      "The current value of your bond portfolio $23048.00\n"
     ]
    }
   ],
   "source": [
    "#current stock ownership value\n",
    "print(f\"The current value of your stock portfolio ${spy_value:.2f}\")\n",
    "#current bond ownership value\n",
    "print(f\"The current value of your bond portfolio ${agg_value:.2f}\")"
   ]
  },
  {
   "cell_type": "code",
   "execution_count": 274,
   "metadata": {
    "pycharm": {
     "name": "#%%\n"
    }
   },
   "outputs": [
    {
     "name": "stdout",
     "output_type": "stream",
     "text": [
      "There is a 95% chance that an initial investment of $127179.72 in the portfolio\n",
      " over the next year will end within in the range of $3,173,683.04 and $18,981,980.16.\n"
     ]
    }
   ],
   "source": [
    "#lower cum. return\n",
    "ci_lower_ten_cumulative_return = summary_stats[8]*portfolio_value\n",
    "#upper cum. return\n",
    "ci_upper_ten_cumulative_return = summary_stats[9]*portfolio_value\n",
    "\n",
    "#deliver findings:\n",
    "print(f\"There is a 95% chance that an initial investment of ${portfolio_value:.2f} in the portfolio\\n\"\n",
    "      f\" over the next year will end within in the range of\"\n",
    "      f\" ${ci_lower_ten_cumulative_return:,.2f} and ${ci_upper_ten_cumulative_return:,.2f}.\")\n",
    "\n",
    "\n"
   ]
  }
 ],
 "metadata": {
  "kernelspec": {
   "display_name": "Python 3",
   "language": "python",
   "name": "python3"
  },
  "language_info": {
   "codemirror_mode": {
    "name": "ipython",
    "version": 3
   },
   "file_extension": ".py",
   "mimetype": "text/x-python",
   "name": "python",
   "nbconvert_exporter": "python",
   "pygments_lexer": "ipython3",
   "version": "3.8.5"
  }
 },
 "nbformat": 4,
 "nbformat_minor": 4
}